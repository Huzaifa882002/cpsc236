{
 "cells": [
  {
   "cell_type": "markdown",
   "metadata": {},
   "source": [
    "# File Input\n",
    "\n",
    "To submit this assignment in D2l, post the link to your notebook file on your GitHub account."
   ]
  },
  {
   "cell_type": "markdown",
   "metadata": {},
   "source": [
    "## 7.1 Pig Dice Rules\n",
    "Create a program that reads a list of rules from a file and displays them.\n",
    "\n",
    "### Console:\n",
    "```powershell\n",
    "Pig Dice Rules:\n",
    "*\tSee how many turns it takes you to get to 20.\n",
    "*\tTurn ends when player rolls a 1 or chooses to hold.\n",
    "*\tIf you roll a 1, you lose all points earned during the turn.\n",
    "*\tIf you hold, you save all points earned during the turn.\n",
    "```\n",
    "\n",
    "### Specifications:\n",
    "- Use the attached text file named `pig_dice_rules.txt` in the corresponding Directory.\n",
    "- Your program should read the text file and display it on the console.\n"
   ]
  },
  {
   "cell_type": "code",
   "execution_count": 1,
   "metadata": {},
   "outputs": [
    {
     "name": "stdout",
     "output_type": "stream",
     "text": [
      "Pig Dice Rules:\n",
      "* See how many turns it takes you to get to 20.\n",
      "* Turn ends when player rolls a 1 or chooses to hold.\n",
      "* If you roll a 1, you lose all points earned during the turn.\n",
      "* If you hold, you save all points earned during the turn.\n"
     ]
    }
   ],
   "source": [
    "### CODE HERE ###\n",
    "f = open(\"pig_dice_rules.txt\", \"r\")\n",
    "\n",
    "print(f.read())\n",
    "\n",
    "f.close()"
   ]
  },
  {
   "cell_type": "markdown",
   "metadata": {},
   "source": [
    "## 7.2 Wizard Inventory\n",
    "Create a program that keeps track of the items that a wizard can carry.\n",
    "\n",
    "### Console:\n",
    "```powershell\n",
    "The Wizard Inventroy Program\n",
    "\n",
    "COMMAND MENU\n",
    "walk - Walk down the path \n",
    "show - Show all items \n",
    "drop - Drop an item\n",
    "exit - Exit program\n",
    "\n",
    "Command: walk\n",
    "While walking down a path, you see a scroll of uncursing. \n",
    "Do you want to grab it? (y/n): y\n",
    "You picked up a scroll of uncursing.\n",
    "\n",
    "Command: walk\n",
    "While walking down a path, you see an unknown potion. \n",
    "Do you want to grab it? (y/n): y\n",
    "You can't carry any more items. Drop something first.\n",
    "\n",
    "Command: show\n",
    "1.\ta wooden staff\n",
    "2.\ta scroll of invisibility\n",
    "3.\ta crossbow\n",
    "4.\ta scroll of uncursing\n",
    "\n",
    "Command: drop Number: 3\n",
    "You dropped a crossbow.\n",
    "\n",
    "Command: exit \n",
    "Bye!\n",
    "```\n",
    "\n",
    "### Specifications:\n",
    "- Use the attached text file named `wizard_all_items.txt` that contains a list of all the items that a wizard can carry. (in the corresponding directory)\n",
    "- When the user selects the walk command, the program should read the items from the file, randomly pick one, and give the user the option to grab it.\n",
    "- Your program should create another file that stores the items that the wizard is carrying (`wizard_inventory.txt`). Make sure to update this file every time the user grabs or drops an item.\n",
    "- The wizard can only carry **four** items at a time.\n",
    "- For the drop command, display an error message if the user enters an invalid number for the item.\n",
    "\n"
   ]
  },
  {
   "cell_type": "code",
   "execution_count": 17,
   "metadata": {},
   "outputs": [
    {
     "name": "stdout",
     "output_type": "stream",
     "text": [
      "\n",
      "The Wizard Inventory Program\n",
      "\n",
      "COMMAND MENU\n",
      "walk - Walk down the path\n",
      "show - Show all items\n",
      "drop - Drop an item\n",
      "exit - Exit program\n"
     ]
    },
    {
     "name": "stdin",
     "output_type": "stream",
     "text": [
      "\n",
      "Command:  walk\n"
     ]
    },
    {
     "name": "stdout",
     "output_type": "stream",
     "text": [
      "While walking down a path, you see a crossbow\n"
     ]
    },
    {
     "name": "stdin",
     "output_type": "stream",
     "text": [
      "Do you want to grab it? (y/n):  y\n"
     ]
    },
    {
     "name": "stdout",
     "output_type": "stream",
     "text": [
      "You picked up a crossbow\n"
     ]
    },
    {
     "name": "stdin",
     "output_type": "stream",
     "text": [
      "\n",
      "Command:  walk\n"
     ]
    },
    {
     "name": "stdout",
     "output_type": "stream",
     "text": [
      "While walking down a path, you see some elven bread\n",
      "You can't carry any more items. Drop something first.\n"
     ]
    },
    {
     "name": "stdin",
     "output_type": "stream",
     "text": [
      "\n",
      "Command:  show\n"
     ]
    },
    {
     "name": "stdout",
     "output_type": "stream",
     "text": [
      "1 .\t an unknown potion\n",
      "2 .\t a wooden staff\n",
      "3 .\t a wizard hat\n",
      "4 .\t a crossbow\n"
     ]
    },
    {
     "name": "stdin",
     "output_type": "stream",
     "text": [
      "\n",
      "Command:  drop\n"
     ]
    },
    {
     "name": "stdout",
     "output_type": "stream",
     "text": [
      "1 .\t an unknown potion\n",
      "2 .\t a wooden staff\n",
      "3 .\t a wizard hat\n",
      "4 .\t a crossbow\n"
     ]
    },
    {
     "name": "stdin",
     "output_type": "stream",
     "text": [
      "Number:  1\n"
     ]
    },
    {
     "name": "stdout",
     "output_type": "stream",
     "text": [
      "You dropped an unknown potion\n"
     ]
    },
    {
     "name": "stdin",
     "output_type": "stream",
     "text": [
      "\n",
      "Command:  exit\n"
     ]
    },
    {
     "name": "stdout",
     "output_type": "stream",
     "text": [
      "Bye!\n"
     ]
    }
   ],
   "source": [
    "### CODE HERE ###\n",
    "import random\n",
    "\n",
    "MAX_ITEMS = 4\n",
    "\n",
    "def load_all_items():\n",
    "    f = open(\"wizard_all_items.txt\", \"r\")\n",
    "    items = f.readlines() \n",
    "    f.close()\n",
    "    return items\n",
    "\n",
    "def load_inventory():\n",
    "    f = open(\"wizard_inventory.txt\", \"r\")\n",
    "    inventory = f.readlines() \n",
    "    f.close()\n",
    "    return inventory\n",
    "\n",
    "def save_inventory(inventory):\n",
    "    f = open(\"wizard_inventory.txt\", \"w\")\n",
    "    for item in inventory:\n",
    "        f.write(item) \n",
    "    f.close()\n",
    "\n",
    "def show_items(inventory):\n",
    "    if len(inventory) == 0:\n",
    "        print(\"Your inventory is empty.\")\n",
    "    else:\n",
    "        i = 1\n",
    "        for item in inventory:\n",
    "            print(i, \".\\t\", item, end=\"\")\n",
    "            i += 1\n",
    "\n",
    "def walk(inventory, all_items):\n",
    "    item_found = random.choice(all_items)\n",
    "    print(\"While walking down a path, you see\", item_found, end=\"\")\n",
    "\n",
    "    if len(inventory) >= MAX_ITEMS:\n",
    "        print(\"You can't carry any more items. Drop something first.\")\n",
    "        return\n",
    "\n",
    "    grab = input(\"Do you want to grab it? (y/n): \").strip().lower()\n",
    "    if grab == \"y\":\n",
    "        inventory.append(item_found)\n",
    "        print(\"You picked up\", item_found, end=\"\")\n",
    "        save_inventory(inventory)\n",
    "\n",
    "def drop_item(inventory):\n",
    "    show_items(inventory)\n",
    "    \n",
    "    item_num = input(\"Number: \").strip()\n",
    "    \n",
    "    if item_num.isdigit():\n",
    "        item_num = int(item_num)\n",
    "        if 1 <= item_num <= len(inventory):\n",
    "            dropped_item = inventory.pop(item_num - 1)\n",
    "            print(\"You dropped\", dropped_item, end=\"\")\n",
    "            save_inventory(inventory)\n",
    "        else:\n",
    "            print(\"Invalid item number.\")\n",
    "    else:\n",
    "        print(\"Please enter a valid number.\")\n",
    "\n",
    "def display_menu():\n",
    "    print(\"\\nThe Wizard Inventory Program\")\n",
    "    print(\"\\nCOMMAND MENU\")\n",
    "    print(\"walk - Walk down the path\")\n",
    "    print(\"show - Show all items\")\n",
    "    print(\"drop - Drop an item\")\n",
    "    print(\"exit - Exit program\")\n",
    "\n",
    "def main():\n",
    "    all_items = load_all_items()\n",
    "\n",
    "    f = open(\"wizard_inventory.txt\", \"r\")\n",
    "    inventory = f.readlines()\n",
    "    f.close()\n",
    "\n",
    "    display_menu()\n",
    "\n",
    "    while True:\n",
    "        command = input(\"\\nCommand: \").strip().lower()\n",
    "\n",
    "        if command == \"walk\":\n",
    "            walk(inventory, all_items)\n",
    "        elif command == \"show\":\n",
    "            show_items(inventory)\n",
    "        elif command == \"drop\":\n",
    "            drop_item(inventory)\n",
    "        elif command == \"exit\":\n",
    "            print(\"Bye!\")\n",
    "            break\n",
    "        else:\n",
    "            print(\"Invalid command. Try again.\")\n",
    "\n",
    "if __name__ == \"__main__\":\n",
    "    main()"
   ]
  },
  {
   "cell_type": "markdown",
   "metadata": {},
   "source": [
    "## 7.3 Monthly Sales\n",
    "Create a program that reads the sales for 12 months from a file and calculates the total yearly sales as well as the average monthly sales. In addition, this program should let the user edit the sales for any month.\n",
    "\n",
    "### Console:\n",
    "```powershell\n",
    "Monthly Sales program\n",
    "\n",
    "COMMAND MENU\n",
    "monthly - View monthly sales \n",
    "yearly\t- View yearly sumary \n",
    "edit\t- Edit sales for a month \n",
    "exit\t- Exit program\n",
    "\n",
    "Command: monthly \n",
    "Jan - 14317\n",
    "Feb - 3903\n",
    "Mar - 1073\n",
    "Apr - 3463\n",
    "May - 2429\n",
    "Jun - 4324\n",
    "Jul - 9762\n",
    "Aug - 15578\n",
    "Sep - 2437\n",
    "Oct - 6735\n",
    "Nov - 88\n",
    "Dec - 2497\n",
    "\n",
    "Command: yearly\n",
    "Yearly total:\t66606\n",
    "Monthly average:\t5550.5\n",
    "\n",
    "Command: edit\n",
    "Three-letter Month: Nov Sales Amount: 8854\n",
    "Sales amount for Nov was modified.\n",
    "\n",
    "Command: exit Bye!\n",
    "```\n",
    "\n",
    "### Specifications:\n",
    "- Use the attached text file named CSV file named `monthly_sales.csv` that contains the month and sales data shown above.\n",
    "- For the edit command, display an error message if the user doesn’t enter a valid three-letter abbreviation for the month.\n",
    "- When the user edits the sales amount for a month, the data should be saved to the CSV file immediately. That way, no data is lost, even if the program crashes later.\n",
    "- Round the results of the monthly average to a maximum of 2 decimal digits."
   ]
  },
  {
   "cell_type": "code",
   "execution_count": 7,
   "metadata": {},
   "outputs": [
    {
     "name": "stdout",
     "output_type": "stream",
     "text": [
      "\n",
      "Monthly Sales Program\n",
      "\n",
      "COMMAND MENU\n",
      "monthly - View monthly sales\n",
      "yearly  - View yearly summary\n",
      "edit    - Edit sales for a month\n",
      "exit    - Exit program\n"
     ]
    },
    {
     "name": "stdin",
     "output_type": "stream",
     "text": [
      "\n",
      "Command:  monthly \n"
     ]
    },
    {
     "name": "stdout",
     "output_type": "stream",
     "text": [
      "Jan - 14317\n",
      "Feb - 3903\n",
      "Mar - 1073\n",
      "Apr - 3463\n",
      "May - 2429\n",
      "Jun - 4324\n",
      "Jul - 9762\n",
      "Aug - 15578\n",
      "Sep - 2437\n",
      "Oct - 6735\n",
      "Nov - 88\n",
      "Dec - 2497\n"
     ]
    },
    {
     "name": "stdin",
     "output_type": "stream",
     "text": [
      "\n",
      "Command:  yearly\n"
     ]
    },
    {
     "name": "stdout",
     "output_type": "stream",
     "text": [
      "Yearly total: 66606\n",
      "Monthly average: 5550.5\n"
     ]
    },
    {
     "name": "stdin",
     "output_type": "stream",
     "text": [
      "\n",
      "Command:  edit\n",
      "Three-letter Month:  nov\n",
      "Sales Amount:  8854\n"
     ]
    },
    {
     "name": "stdout",
     "output_type": "stream",
     "text": [
      "Sales amount for Nov was modified.\n"
     ]
    },
    {
     "name": "stdin",
     "output_type": "stream",
     "text": [
      "\n",
      "Command:  exit\n"
     ]
    },
    {
     "name": "stdout",
     "output_type": "stream",
     "text": [
      "Bye!\n"
     ]
    }
   ],
   "source": [
    "### CODE HERE ###\n",
    "import pickle\n",
    "\n",
    "def load_sales():\n",
    "    f = open(\"monthly_sales.csv\", \"r\")\n",
    "    sales_data = f.readlines()\n",
    "    f.close()\n",
    "\n",
    "    sales_list = []\n",
    "    for line in sales_data:\n",
    "        month, sales = line.strip().split(\",\")\n",
    "        sales_list.append((month, int(sales)))\n",
    "    return sales_list\n",
    "\n",
    "def save_sales(sales_list):\n",
    "    f = open(\"monthly_sales.csv\", \"w\")\n",
    "    for month, sales in sales_list:\n",
    "        f.write(month + \",\" + str(sales) + \"\\n\")\n",
    "    f.close()\n",
    "\n",
    "def show_monthly_sales(sales_list):\n",
    "    for month, sales in sales_list:\n",
    "        print(month, \"-\", sales)\n",
    "\n",
    "def show_yearly_summary(sales_list):\n",
    "    total_sales = sum(sales for _, sales in sales_list)\n",
    "    average_sales = total_sales / len(sales_list)\n",
    "    print(\"Yearly total:\", total_sales)\n",
    "    print(\"Monthly average:\", round(average_sales, 2))\n",
    "\n",
    "def edit_sales(sales_list):\n",
    "    month_ab = input(\"Three-letter Month: \").strip().capitalize()\n",
    "    \n",
    "    for i in range(len(sales_list)):\n",
    "        if sales_list[i][0] == month_ab:\n",
    "            sales_amount = input(\"Sales Amount: \").strip()\n",
    "            if sales_amount.isdigit():\n",
    "                sales_list[i] = (month_ab, int(sales_amount))\n",
    "                save_sales(sales_list)\n",
    "                print(\"Sales amount for\", month_ab, \"was modified.\")\n",
    "            else:\n",
    "                print(\"Invalid sales amount. Please enter a valid number.\")\n",
    "            return\n",
    "    print(\"Invalid month abbreviation. Please enter a valid three-letter month name.\")\n",
    "\n",
    "def display_menu():\n",
    "    print(\"\\nMonthly Sales Program\")\n",
    "    print(\"\\nCOMMAND MENU\")\n",
    "    print(\"monthly - View monthly sales\")\n",
    "    print(\"yearly  - View yearly summary\")\n",
    "    print(\"edit    - Edit sales for a month\")\n",
    "    print(\"exit    - Exit program\")\n",
    "\n",
    "def main():\n",
    "    sales_list = load_sales()\n",
    "    display_menu()\n",
    "\n",
    "    while True:\n",
    "        command = input(\"\\nCommand: \").strip().lower()\n",
    "\n",
    "        if command == \"monthly\":\n",
    "            show_monthly_sales(sales_list)\n",
    "        elif command == \"yearly\":\n",
    "            show_yearly_summary(sales_list)\n",
    "        elif command == \"edit\":\n",
    "            edit_sales(sales_list)\n",
    "        elif command == \"exit\":\n",
    "            print(\"Bye!\")\n",
    "            break\n",
    "        else:\n",
    "            print(\"Invalid command. Try again.\")\n",
    "\n",
    "if __name__ == \"__main__\":\n",
    "    main()"
   ]
  },
  {
   "cell_type": "code",
   "execution_count": null,
   "metadata": {},
   "outputs": [],
   "source": []
  }
 ],
 "metadata": {
  "kernelspec": {
   "display_name": "Python [conda env:base] *",
   "language": "python",
   "name": "conda-base-py"
  },
  "language_info": {
   "codemirror_mode": {
    "name": "ipython",
    "version": 3
   },
   "file_extension": ".py",
   "mimetype": "text/x-python",
   "name": "python",
   "nbconvert_exporter": "python",
   "pygments_lexer": "ipython3",
   "version": "3.12.7"
  }
 },
 "nbformat": 4,
 "nbformat_minor": 4
}
