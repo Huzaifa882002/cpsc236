{
 "cells": [
  {
   "cell_type": "markdown",
   "metadata": {},
   "source": [
    "# Chapter 2 - How to write your first program"
   ]
  },
  {
   "cell_type": "markdown",
   "metadata": {},
   "source": [
    "## 2.1 Student Registration\n",
    "Create a program that allows a student to complete a registration form and displays a completion message that includes the user’s full name and a temporary password.\n",
    "\n",
    "### Console:\n",
    "```powershell\n",
    "Registration Form\n",
    "\n",
    "First Name: Eric\n",
    "Last Name: Idle\n",
    "Birth Year: 1934\n",
    "\n",
    "Welcome Eric Idle!\n",
    "Your registration is complete!\n",
    "Your temporary password is: Eric*1934\n",
    "```\n",
    "\n",
    "### Specifications:\n",
    "- The user’s full name consists of the user’s first name, a space, and the user’s last name.\n",
    "- The temporary password consists of the user’s first name, an asterisk (*), and the user’s birth year.\n",
    "- Assume the user will enter valid data.\n"
   ]
  },
  {
   "cell_type": "code",
   "execution_count": 3,
   "metadata": {},
   "outputs": [
    {
     "name": "stdin",
     "output_type": "stream",
     "text": [
      " First Name: Eric\n",
      " Last Name: Idle\n",
      " Birth Year: 1934\n"
     ]
    },
    {
     "name": "stdout",
     "output_type": "stream",
     "text": [
      "\n",
      "Welcome Eric Idle!\n",
      "Your registration is complete!\n",
      "Your temporary password is: Idle*1934\n"
     ]
    }
   ],
   "source": [
    "# CODE HERE ##\n",
    "first_name=(input(\" First Name:\"))\n",
    "last_name=(input(\" Last Name:\"))\n",
    "birth_year=int(input(\" Birth Year:\"))\n",
    "\n",
    "\n",
    "print(\"\\nWelcome\", first_name, last_name, end=\"!\")\n",
    "print(\"\\nYour registration is complete!\")\n",
    "print(\"Your temporary password is: \", last_name,\"*\",birth_year, sep=\"\"  )"
   ]
  },
  {
   "cell_type": "markdown",
   "metadata": {},
   "source": [
    "## 2.2 - Pay Check Calculator\n",
    "Create a program that calculates a user’s weekly gross and take-home pay.\n",
    "\n",
    "### Console\n",
    "```powershell\n",
    "Pay Check Calculator\n",
    "\n",
    "Hours Worked: 35\n",
    "Hourly Pay Rate: 14.50\n",
    "\n",
    "Gross Pay: 507.5\n",
    "Tax Rate: 18%\n",
    "Tax Amount: 91.35\n",
    "Take Home Pay: 416.15\n",
    "```\n",
    "\n",
    "### Specifications:\n",
    "- The formula for calculating gross pay is:\n",
    "`gross pay = hours worked * hourly rate`\n",
    "- The formula for calculating tax amount is:\n",
    "`tax amount = gross pay * (tax rate / 100)`\n",
    "- The formula for calculating take home pay is:\n",
    "`take home pay = gross pay – tax amount`\n",
    "- The tax rate should be 18%, but the program should store the tax rate in a variable so that you can easily change the tax rate later, just by changing the value that’s stored in the variable.\n",
    "- The program should accept decimal entries like 35.5 and 14.25.\n",
    "- Assume the user will enter valid data.\n",
    "- The program should round the results to a maximum of two decimal places.\n"
   ]
  },
  {
   "cell_type": "code",
   "execution_count": 5,
   "metadata": {},
   "outputs": [
    {
     "name": "stdin",
     "output_type": "stream",
     "text": [
      "Hours Worked: 35\n",
      "Hourly Pay Rate: 14.50\n"
     ]
    },
    {
     "name": "stdout",
     "output_type": "stream",
     "text": [
      "\n",
      "Gross Pay: 507.5\n",
      "Tax Rate: 18%\n",
      "Tax Amount: 91.35\n",
      "Take Home Pay: 416.15\n"
     ]
    }
   ],
   "source": [
    "### CODE HERE ###\n",
    "Hours_worked= float(input(\"Hours Worked:\"))\n",
    "hourly_rate= float(input(\"Hourly Pay Rate:\"))\n",
    "gross_pay= (Hours_worked*hourly_rate)\n",
    "tax_rate= 18\n",
    "tax_amount= (gross_pay)*(tax_rate / 100)\n",
    "take_home_pay= gross_pay - tax_amount\n",
    "\n",
    "print(\"\\nGross Pay:\", gross_pay)\n",
    "print(\"Tax Rate: \", tax_rate, \"%\", sep=\"\")\n",
    "print(\"Tax Amount:\", tax_amount)\n",
    "print(\"Take Home Pay:\", take_home_pay)"
   ]
  },
  {
   "cell_type": "markdown",
   "metadata": {},
   "source": [
    "## 2.3 - Travel Time Calculator\n",
    "Create a program that calculates the estimated hours and minutes for a trip.\n",
    "\n",
    "### Console\n",
    "```powershell\n",
    "Travel Time Calculator\n",
    "\n",
    "Enter Miles: 200\n",
    "Enter Miles per Hour: 65\n",
    "\n",
    "Estimated Travel Time\n",
    "Hours: 3\n",
    "Minutes: 5\n",
    "```\n",
    "\n",
    "### Specifications\n",
    "- The program should only accept integer entries like 200 and 65.\n",
    "- Assume that the user will enter valid data.\n",
    "\n",
    "### Hint\n",
    "- Use integers with the integer division and modulus operators to get hours and minutes."
   ]
  },
  {
   "cell_type": "code",
   "execution_count": 79,
   "metadata": {},
   "outputs": [
    {
     "name": "stdin",
     "output_type": "stream",
     "text": [
      "Enter Miles: 200\n",
      "Enter Miles Per Hour: 65\n"
     ]
    },
    {
     "name": "stdout",
     "output_type": "stream",
     "text": [
      "\n",
      "Estimated Travel Time\n",
      "Hours: 3\n",
      "Minutes: 5\n"
     ]
    }
   ],
   "source": [
    "### CODE HERE ###\n",
    "miles= int(input(\"Enter Miles:\"))\n",
    "mph= int(input(\"Enter Miles Per Hour:\"))\n",
    "hours= miles // mph\n",
    "minutes= round((miles % mph) * 60 / mph)\n",
    "\n",
    "print(\"\\nEstimated Travel Time\")\n",
    "print(\"Hours:\", hours)\n",
    "print(\"Minutes:\", minutes)"
   ]
  },
  {
   "cell_type": "code",
   "execution_count": null,
   "metadata": {},
   "outputs": [],
   "source": []
  }
 ],
 "metadata": {
  "kernelspec": {
   "display_name": "Python [conda env:base] *",
   "language": "python",
   "name": "conda-base-py"
  },
  "language_info": {
   "codemirror_mode": {
    "name": "ipython",
    "version": 3
   },
   "file_extension": ".py",
   "mimetype": "text/x-python",
   "name": "python",
   "nbconvert_exporter": "python",
   "pygments_lexer": "ipython3",
   "version": "3.12.7"
  }
 },
 "nbformat": 4,
 "nbformat_minor": 4
}
