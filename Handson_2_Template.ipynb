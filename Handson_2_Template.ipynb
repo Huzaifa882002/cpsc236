{
 "cells": [
  {
   "cell_type": "markdown",
   "metadata": {},
   "source": [
    "# Selections and Loops"
   ]
  },
  {
   "cell_type": "markdown",
   "metadata": {},
   "source": [
    "## 3.1 Letter Grade Converter\n",
    "Create a program that converts number grades to letter grades.\n",
    "\n",
    "### Console:\n",
    "```powershell\n",
    "Letter Grade Converter\n",
    "\n",
    "Enter numerical grade: 90 \n",
    "Letter grade: A\n",
    "\n",
    "Continue? (y/n): y\n",
    "\n",
    "Enter numerical grade: 88 \n",
    "Letter grade: A\n",
    "\n",
    "Continue? (y/n): y\n",
    "\n",
    "Enter numerical grade: 80 \n",
    "Letter grade: B\n",
    "\n",
    "Continue? (y/n): y\n",
    "\n",
    "Enter numerical grade: 67 \n",
    "Letter grade: C\n",
    "\n",
    "Continue? (y/n): y\n",
    "\n",
    "Enter numerical grade: 59 \n",
    "Letter grade: F\n",
    "\n",
    "Continue? (y/n): n\n",
    "\n",
    "Bye!\n",
    "```\n",
    "\n",
    "### Specifications:\n",
    "- Assume that the user will enter valid integers for the grades.\n",
    "- The program should continue only if the user enters “y” or “Y” to continue.\n",
    "- The grading criteria is as follows:\n",
    "\n",
    "| Letter |\tRange |\n",
    "|---|-------|\n",
    "| A |\t88-100 |\n",
    "| B |\t80-87 |\n",
    "| C |\t67-79 |\n",
    "| D |\t60-66 |\n",
    "| F |\t<60 |"
   ]
  },
  {
   "cell_type": "code",
   "execution_count": 15,
   "metadata": {},
   "outputs": [
    {
     "name": "stdin",
     "output_type": "stream",
     "text": [
      "Enter numerical grade:  90\n"
     ]
    },
    {
     "name": "stdout",
     "output_type": "stream",
     "text": [
      "Letter grade: A\n"
     ]
    },
    {
     "name": "stdin",
     "output_type": "stream",
     "text": [
      "\n",
      "Continue? (y/n):  y\n",
      "Enter numerical grade:  88\n"
     ]
    },
    {
     "name": "stdout",
     "output_type": "stream",
     "text": [
      "Letter grade: A\n"
     ]
    },
    {
     "name": "stdin",
     "output_type": "stream",
     "text": [
      "\n",
      "Continue? (y/n):  y\n",
      "Enter numerical grade:  80\n"
     ]
    },
    {
     "name": "stdout",
     "output_type": "stream",
     "text": [
      "Letter grade: B\n"
     ]
    },
    {
     "name": "stdin",
     "output_type": "stream",
     "text": [
      "\n",
      "Continue? (y/n):  y\n",
      "Enter numerical grade:  67\n"
     ]
    },
    {
     "name": "stdout",
     "output_type": "stream",
     "text": [
      "Letter grade: C\n"
     ]
    },
    {
     "name": "stdin",
     "output_type": "stream",
     "text": [
      "\n",
      "Continue? (y/n):  y\n",
      "Enter numerical grade:  59\n"
     ]
    },
    {
     "name": "stdout",
     "output_type": "stream",
     "text": [
      "Letter grade: F\n"
     ]
    },
    {
     "name": "stdin",
     "output_type": "stream",
     "text": [
      "\n",
      "Continue? (y/n):  n\n"
     ]
    },
    {
     "name": "stdout",
     "output_type": "stream",
     "text": [
      "\n",
      "Bye!\n"
     ]
    }
   ],
   "source": [
    "### CODE HERE ###\n",
    "cont = 'y'\n",
    "while cont.lower() == 'y':\n",
    "    numerical_grade = int(input(\"Enter numerical grade: \"))\n",
    "    \n",
    "    if 88 <= numerical_grade <= 100:\n",
    "        letter_grade = \"A\"\n",
    "    elif 80 <= numerical_grade <= 87:\n",
    "        letter_grade = \"B\"\n",
    "    elif 67 <= numerical_grade <= 79:\n",
    "        letter_grade = \"C\"\n",
    "    elif 60 <= numerical_grade <= 66:\n",
    "        letter_grade = \"D\"\n",
    "    else:\n",
    "        letter_grade = \"F\"\n",
    "    \n",
    "    print(\"Letter grade:\", letter_grade)\n",
    "    \n",
    "    cont = input(\"\\nContinue? (y/n): \")\n",
    "\n",
    "print(\"\\nBye!\")"
   ]
  },
  {
   "cell_type": "markdown",
   "metadata": {},
   "source": [
    "## 3.2 - Tip Calculator\n",
    "Create a program that calculates three options for an appropriate tip to leave after a meal at a restaurant.\n",
    "\n",
    "### Console\n",
    "```powershell\n",
    "Tip Calculator\n",
    "\n",
    "Cost of meal: 52.31 \n",
    "\n",
    "15%\n",
    "Tip amount:\t7.85\n",
    "Total amount: 60.16\n",
    "\n",
    "20%\n",
    "Tip amount:\t10.46\n",
    "Total amount: 62.77\n",
    "\n",
    "25%\n",
    "Tip amount:\t13.08\n",
    "Total amount: 65.39\n",
    "```\n",
    "\n",
    "### Specifications:\n",
    "- The program should calculate and display the cost of tipping at 15%, 20%, or 25%.\n",
    "- Assume the user will enter valid data.\n",
    "- The program should round results to a maximum of two decimal places.\n",
    "\n"
   ]
  },
  {
   "cell_type": "code",
   "execution_count": 7,
   "metadata": {},
   "outputs": [
    {
     "name": "stdin",
     "output_type": "stream",
     "text": [
      "Cost of meal:  100\n"
     ]
    },
    {
     "name": "stdout",
     "output_type": "stream",
     "text": [
      "\n",
      " 15 %\n",
      "Tip amount: 15.0 \n",
      "Total amount: 115.0\n",
      "\n",
      " 20 %\n",
      "Tip amount: 20.0 \n",
      "Total amount: 120.0\n",
      "\n",
      " 25 %\n",
      "Tip amount: 25.0 \n",
      "Total amount: 125.0\n"
     ]
    }
   ],
   "source": [
    "### CODE HERE ###\n",
    "meal_cost = float(input(\"Cost of meal: \"))\n",
    "\n",
    "for tip in [15, 20, 25]:\n",
    "    tip_amount = round(meal_cost * tip / 100, 2)\n",
    "    total_amount = round(meal_cost + tip_amount, 2 )\n",
    "    print(\"\\n\", tip, \"%\\nTip amount:\", tip_amount, \"\\nTotal amount:\", total_amount)\n"
   ]
  },
  {
   "cell_type": "markdown",
   "metadata": {},
   "source": [
    "## 3.3 - Change Calculator\n",
    "Create a program that calculates the coins needed to make change for the specified number of cents.\n",
    "\n",
    "### Console\n",
    "```powershell\n",
    "Change Calculator\n",
    "\n",
    "Enter number of cents (0-99): 99\n",
    "\n",
    "Quarters: 3\n",
    "Dimes:\t2\n",
    "Nickels: 0\n",
    "Pennies: 4\n",
    "\n",
    "Continue? (y/n): y\n",
    "\n",
    "Enter number of cents (0-99): 55\n",
    "\n",
    "Quarters: 2\n",
    "Dimes:\t0\n",
    "Nickels: 1\n",
    "Pennies: 0\n",
    "\n",
    "Continue? (y/n): n \n",
    "\n",
    "Bye!\n",
    "```\n",
    "\n",
    "### Specifications\n",
    "- The program should display the minimum number of quarters, dimes, nickels, and pennies that one needs to make up the specified number of cents.\n",
    "- Assume that the user will enter a valid integer for the number of cents.\n",
    "- The program should continue only if the user enters “y” or “Y” to continue.\n"
   ]
  },
  {
   "cell_type": "code",
   "execution_count": 4,
   "metadata": {},
   "outputs": [
    {
     "name": "stdin",
     "output_type": "stream",
     "text": [
      "Enter number of cents (0-99):  99\n"
     ]
    },
    {
     "name": "stdout",
     "output_type": "stream",
     "text": [
      "\n",
      "Quarters: 3 \n",
      "Dimes:\t 2 \n",
      "Nickels: 0 \n",
      "Pennies: 4 \n",
      "\n"
     ]
    },
    {
     "name": "stdin",
     "output_type": "stream",
     "text": [
      "Continue? (y/n):  Y\n",
      "Enter number of cents (0-99):  55\n"
     ]
    },
    {
     "name": "stdout",
     "output_type": "stream",
     "text": [
      "\n",
      "Quarters: 2 \n",
      "Dimes:\t 0 \n",
      "Nickels: 1 \n",
      "Pennies: 0 \n",
      "\n"
     ]
    },
    {
     "name": "stdin",
     "output_type": "stream",
     "text": [
      "Continue? (y/n):  N\n"
     ]
    },
    {
     "name": "stdout",
     "output_type": "stream",
     "text": [
      "\n",
      "Bye!\n"
     ]
    }
   ],
   "source": [
    "### CODE HERE ###\n",
    "cont = 'y'\n",
    "while cont == 'y':\n",
    "    cents = input(\"Enter number of cents (0-99): \")\n",
    "    if cents.isdigit():\n",
    "        cents = int(cents)\n",
    "        if 0 <= cents <= 99:\n",
    "            quarters = cents // 25\n",
    "            cents %= 25\n",
    "            dimes = cents // 10\n",
    "            cents %= 10\n",
    "            nickels = cents // 5\n",
    "            cents %= 5\n",
    "            pennies = cents\n",
    "            \n",
    "            print(\"\\nQuarters:\", quarters, \"\\nDimes:\\t\", dimes, \"\\nNickels:\", nickels, \"\\nPennies:\", pennies, \"\\n\")\n",
    "        else:\n",
    "            print(\"Please enter a number between 0 and 99.\")\n",
    "    else:\n",
    "        print(\"Invalid input. Please enter an integer between 0 and 99.\")\n",
    "    \n",
    "    cont = input(\"Continue? (y/n): \").strip().lower()\n",
    "\n",
    "print(\"\\nBye!\")"
   ]
  },
  {
   "cell_type": "markdown",
   "metadata": {},
   "source": [
    "## 3.4 - Table of Powers\n",
    "Create a program that displays a table of squares and cubes for the specified range of numbers.\n",
    "\n",
    "### Console\n",
    "```powershell\n",
    "Table of Powers\n",
    "\n",
    "Start number: 90\n",
    "Stop number: 100\n",
    "\n",
    "Number\tSquared\tCubed\n",
    "======\t=======\t=====\n",
    "90      8100\t729000\n",
    "91      8281\t753571\n",
    "92      8464\t778688\n",
    "93      8649\t804357\n",
    "94      8836\t830584\n",
    "95      9025\t857375\n",
    "96      9216\t884736\n",
    "97      9409\t912673\n",
    "98      9604\t941192\n",
    "99      9801\t970299\n",
    "100     10000\t1000000\n",
    "```\n",
    "\n",
    "### Specifications\n",
    "- The formulas for calculating squares and cubes are:\n",
    "\n",
    "    `square = x ** 2`\n",
    "    \n",
    "    `cube = x ** 3`\n",
    "\n",
    "- Use tabs to align the columns.\n",
    "- Assume that the user will enter valid integers.\n",
    "- Make sure the user enters a start integer that’s less than the stop integer. If the user enters a start integer that’s greater than the stop integer, display an error message and give the user a chance to enter the integers again.\n"
   ]
  },
  {
   "cell_type": "code",
   "execution_count": 6,
   "metadata": {},
   "outputs": [
    {
     "name": "stdin",
     "output_type": "stream",
     "text": [
      "Start number:  90\n",
      "Stop number:  100\n"
     ]
    },
    {
     "name": "stdout",
     "output_type": "stream",
     "text": [
      "\n",
      "Number\tSquared\tCubed\n",
      "======\t=======\t=====\n",
      "90 \t 8100 \t 729000\n",
      "91 \t 8281 \t 753571\n",
      "92 \t 8464 \t 778688\n",
      "93 \t 8649 \t 804357\n",
      "94 \t 8836 \t 830584\n",
      "95 \t 9025 \t 857375\n",
      "96 \t 9216 \t 884736\n",
      "97 \t 9409 \t 912673\n",
      "98 \t 9604 \t 941192\n",
      "99 \t 9801 \t 970299\n",
      "100 \t 10000 \t 1000000\n"
     ]
    }
   ],
   "source": [
    "### CODE HERE ###\n",
    "start = int(input(\"Start number: \"))\n",
    "stop = int(input(\"Stop number: \"))\n",
    "\n",
    "while start >= stop:\n",
    "    print(\"Error: Start number must be less than stop number. Please try again.\")\n",
    "    start = int(input(\"Start number: \"))\n",
    "    stop = int(input(\"Stop number: \"))\n",
    "\n",
    "print(\"\\nNumber\\tSquared\\tCubed\")\n",
    "print(\"======\\t=======\\t=====\")\n",
    "\n",
    "for num in range(start, stop + 1):\n",
    "    print(num, \"\\t\", num ** 2, \"\\t\", num ** 3)\n"
   ]
  },
  {
   "cell_type": "code",
   "execution_count": null,
   "metadata": {},
   "outputs": [],
   "source": []
  }
 ],
 "metadata": {
  "kernelspec": {
   "display_name": "Python [conda env:base] *",
   "language": "python",
   "name": "conda-base-py"
  },
  "language_info": {
   "codemirror_mode": {
    "name": "ipython",
    "version": 3
   },
   "file_extension": ".py",
   "mimetype": "text/x-python",
   "name": "python",
   "nbconvert_exporter": "python",
   "pygments_lexer": "ipython3",
   "version": "3.12.7"
  }
 },
 "nbformat": 4,
 "nbformat_minor": 4
}
